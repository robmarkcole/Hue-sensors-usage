{
 "cells": [
  {
   "cell_type": "code",
   "execution_count": 1,
   "metadata": {
    "collapsed": true
   },
   "outputs": [],
   "source": [
    "#from hue_sensors import (\n",
    " #   load_url, print_json, parse_hue_api_response, get_response_from_url,\n",
    "  #  save_response)"
   ]
  },
  {
   "cell_type": "code",
   "execution_count": 6,
   "metadata": {},
   "outputs": [],
   "source": [
    "import pprint\n",
    "\n",
    "def print_json(json_data):\n",
    "    pprint.PrettyPrinter().pprint(json_data)"
   ]
  },
  {
   "cell_type": "code",
   "execution_count": 1,
   "metadata": {},
   "outputs": [],
   "source": [
    "import hue_sensors as hs"
   ]
  },
  {
   "cell_type": "markdown",
   "metadata": {},
   "source": [
    "First load the URL, in my case I am loading from a json doc on my desktop. This keeps my API key secret."
   ]
  },
  {
   "cell_type": "code",
   "execution_count": 2,
   "metadata": {},
   "outputs": [
    {
     "data": {
      "text/plain": [
       "1.1"
      ]
     },
     "execution_count": 2,
     "metadata": {},
     "output_type": "execute_result"
    }
   ],
   "source": [
    "hs.__version__"
   ]
  },
  {
   "cell_type": "code",
   "execution_count": 3,
   "metadata": {},
   "outputs": [],
   "source": [
    "filename = '/Users/robincole/Desktop/Hue_url.json'\n",
    "URL = hs.load_url(filename)    # base URL of the remote, ending /sensors"
   ]
  },
  {
   "cell_type": "markdown",
   "metadata": {},
   "source": [
    "URL = 'http://192.168.0.3/api/my_key/sensors'"
   ]
  },
  {
   "cell_type": "markdown",
   "metadata": {},
   "source": [
    "Fetch the response (raw data) from this URL"
   ]
  },
  {
   "cell_type": "code",
   "execution_count": 4,
   "metadata": {},
   "outputs": [],
   "source": [
    "response = hs.get_response_from_url(URL)"
   ]
  },
  {
   "cell_type": "markdown",
   "metadata": {},
   "source": [
    "Pretty print the json"
   ]
  },
  {
   "cell_type": "code",
   "execution_count": 7,
   "metadata": {},
   "outputs": [
    {
     "name": "stdout",
     "output_type": "stream",
     "text": [
      "{'1': {'config': {'configured': True,\n",
      "                  'on': True,\n",
      "                  'sunriseoffset': 30,\n",
      "                  'sunsetoffset': -30},\n",
      "       'manufacturername': 'Philips',\n",
      "       'modelid': 'PHDL00',\n",
      "       'name': 'Daylight',\n",
      "       'state': {'daylight': False, 'lastupdated': '2017-10-12T16:45:00'},\n",
      "       'swversion': '1.0',\n",
      "       'type': 'Daylight'},\n",
      " '10': {'config': {'alert': 'none',\n",
      "                   'battery': 100,\n",
      "                   'ledindication': False,\n",
      "                   'on': True,\n",
      "                   'pending': [],\n",
      "                   'reachable': True,\n",
      "                   'tholddark': 12853,\n",
      "                   'tholdoffset': 7000,\n",
      "                   'usertest': False},\n",
      "        'manufacturername': 'Philips',\n",
      "        'modelid': 'SML001',\n",
      "        'name': 'Hue ambient light sensor 2',\n",
      "        'state': {'dark': True,\n",
      "                  'daylight': False,\n",
      "                  'lastupdated': '2017-10-13T05:14:07',\n",
      "                  'lightlevel': 0},\n",
      "        'swupdate': {'lastinstall': None, 'state': 'noupdates'},\n",
      "        'swversion': '6.1.0.18912',\n",
      "        'type': 'ZLLLightLevel',\n",
      "        'uniqueid': '00:17:88:01:02:00:b5:ce-02-0400'},\n",
      " '11': {'config': {'on': True, 'reachable': True},\n",
      "        'manufacturername': 'Philips',\n",
      "        'modelid': 'PHA_STATE',\n",
      "        'name': 'MotionSensor 9.Companion',\n",
      "        'recycle': True,\n",
      "        'state': {'lastupdated': '2017-10-13T04:16:20', 'status': 0},\n",
      "        'swversion': '1.0',\n",
      "        'type': 'CLIPGenericStatus',\n",
      "        'uniqueid': 'MotionSensor 9.Companion'},\n",
      " '12': {'config': {'on': True, 'reachable': True},\n",
      "        'manufacturername': 'Philips',\n",
      "        'modelid': 'HA_GEOFENCE',\n",
      "        'name': 'Robins iPhone',\n",
      "        'recycle': False,\n",
      "        'state': {'lastupdated': '2017-10-12T20:43:07', 'presence': True},\n",
      "        'swversion': 'A_1',\n",
      "        'type': 'Geofence',\n",
      "        'uniqueid': 'L_02_IYwHM'},\n",
      " '13': {'config': {'on': True, 'reachable': True},\n",
      "        'manufacturername': 'Philips',\n",
      "        'modelid': 'HOMEAWAY',\n",
      "        'name': 'HomeAway',\n",
      "        'recycle': False,\n",
      "        'state': {'lastupdated': '2017-10-12T20:43:07', 'presence': True},\n",
      "        'swversion': 'A_1',\n",
      "        'type': 'CLIPPresence',\n",
      "        'uniqueid': 'L_01_9rQ8A'},\n",
      " '14': {'config': {'alert': 'none',\n",
      "                   'battery': 100,\n",
      "                   'ledindication': False,\n",
      "                   'on': True,\n",
      "                   'pending': [],\n",
      "                   'reachable': True,\n",
      "                   'usertest': False},\n",
      "        'manufacturername': 'Philips',\n",
      "        'modelid': 'SML001',\n",
      "        'name': 'Hue temperature sensor 3',\n",
      "        'state': {'lastupdated': '2017-10-13T05:17:13', 'temperature': 2237},\n",
      "        'swupdate': {'lastinstall': None, 'state': 'noupdates'},\n",
      "        'swversion': '6.1.0.18912',\n",
      "        'type': 'ZLLTemperature',\n",
      "        'uniqueid': '00:17:88:01:02:01:aa:9c-02-0402'},\n",
      " '15': {'config': {'alert': 'none',\n",
      "                   'battery': 100,\n",
      "                   'ledindication': False,\n",
      "                   'on': True,\n",
      "                   'pending': [],\n",
      "                   'reachable': True,\n",
      "                   'sensitivity': 2,\n",
      "                   'sensitivitymax': 2,\n",
      "                   'usertest': False},\n",
      "        'manufacturername': 'Philips',\n",
      "        'modelid': 'SML001',\n",
      "        'name': 'Living room sensor',\n",
      "        'state': {'lastupdated': '2017-10-13T05:15:16', 'presence': False},\n",
      "        'swupdate': {'lastinstall': None, 'state': 'noupdates'},\n",
      "        'swversion': '6.1.0.18912',\n",
      "        'type': 'ZLLPresence',\n",
      "        'uniqueid': '00:17:88:01:02:01:aa:9c-02-0406'},\n",
      " '16': {'config': {'alert': 'none',\n",
      "                   'battery': 100,\n",
      "                   'ledindication': False,\n",
      "                   'on': True,\n",
      "                   'pending': [],\n",
      "                   'reachable': True,\n",
      "                   'tholddark': 16000,\n",
      "                   'tholdoffset': 7000,\n",
      "                   'usertest': False},\n",
      "        'manufacturername': 'Philips',\n",
      "        'modelid': 'SML001',\n",
      "        'name': 'Hue ambient light sensor 3',\n",
      "        'state': {'dark': True,\n",
      "                  'daylight': False,\n",
      "                  'lastupdated': '2017-10-13T05:13:41',\n",
      "                  'lightlevel': 0},\n",
      "        'swupdate': {'lastinstall': None, 'state': 'noupdates'},\n",
      "        'swversion': '6.1.0.18912',\n",
      "        'type': 'ZLLLightLevel',\n",
      "        'uniqueid': '00:17:88:01:02:01:aa:9c-02-0400'},\n",
      " '18': {'config': {'on': True, 'reachable': True},\n",
      "        'manufacturername': 'Philips',\n",
      "        'modelid': 'PHA_STATE',\n",
      "        'name': 'MotionSensor 15.Companion',\n",
      "        'recycle': True,\n",
      "        'state': {'lastupdated': '2017-10-13T05:15:16', 'status': 0},\n",
      "        'swversion': '1.0',\n",
      "        'type': 'CLIPGenericStatus',\n",
      "        'uniqueid': 'MotionSensor 15.Companion'},\n",
      " '2': {'config': {'battery': 100, 'on': True, 'pending': [], 'reachable': True},\n",
      "       'manufacturername': 'Philips',\n",
      "       'modelid': 'RWL021',\n",
      "       'name': 'Remote bedroom',\n",
      "       'state': {'buttonevent': 4002, 'lastupdated': '2017-10-12T21:12:02'},\n",
      "       'swupdate': {'lastinstall': None, 'state': 'noupdates'},\n",
      "       'swversion': '5.45.1.16265',\n",
      "       'type': 'ZLLSwitch',\n",
      "       'uniqueid': '00:17:88:01:10:3e:3a:dc-02-fc00'},\n",
      " '20': {'config': {'battery': 100,\n",
      "                   'on': True,\n",
      "                   'pending': [],\n",
      "                   'reachable': True},\n",
      "        'manufacturername': 'Philips',\n",
      "        'modelid': 'RWL021',\n",
      "        'name': 'Living room remote',\n",
      "        'state': {'buttonevent': 2002, 'lastupdated': '2017-10-13T04:30:34'},\n",
      "        'swupdate': {'lastinstall': None, 'state': 'noupdates'},\n",
      "        'swversion': '5.45.1.17846',\n",
      "        'type': 'ZLLSwitch',\n",
      "        'uniqueid': '00:17:88:01:02:e2:47:1e-02-fc00'},\n",
      " '21': {'config': {'on': True, 'reachable': True},\n",
      "        'manufacturername': 'Philips',\n",
      "        'modelid': 'PHWA01',\n",
      "        'name': 'Dimmer Switch 20 SceneCycle',\n",
      "        'recycle': True,\n",
      "        'state': {'lastupdated': '2017-10-13T04:30:09', 'status': 1},\n",
      "        'swversion': '1.0',\n",
      "        'type': 'CLIPGenericStatus',\n",
      "        'uniqueid': 'WA0001'},\n",
      " '22': {'config': {'battery': 100,\n",
      "                   'on': True,\n",
      "                   'pending': [],\n",
      "                   'reachable': True},\n",
      "        'manufacturername': 'Philips',\n",
      "        'modelid': 'RWL021',\n",
      "        'name': 'Hall remote',\n",
      "        'state': {'buttonevent': None, 'lastupdated': 'none'},\n",
      "        'swupdate': {'lastinstall': None, 'state': 'noupdates'},\n",
      "        'swversion': '5.45.1.17846',\n",
      "        'type': 'ZLLSwitch',\n",
      "        'uniqueid': '00:17:88:01:02:c0:e1:9c-02-fc00'},\n",
      " '23': {'config': {'on': True, 'reachable': True},\n",
      "        'manufacturername': 'Philips',\n",
      "        'modelid': 'PHWA01',\n",
      "        'name': 'Dimmer Switch 22 SceneCycle',\n",
      "        'recycle': True,\n",
      "        'state': {'lastupdated': 'none', 'status': 0},\n",
      "        'swversion': '1.0',\n",
      "        'type': 'CLIPGenericStatus',\n",
      "        'uniqueid': 'WA0001'},\n",
      " '3': {'config': {'on': True, 'reachable': True},\n",
      "       'manufacturername': 'Philips',\n",
      "       'modelid': 'PHWA01',\n",
      "       'name': 'Dimmer Switch 2 SceneCycle',\n",
      "       'recycle': True,\n",
      "       'state': {'lastupdated': '2017-10-12T21:12:12', 'status': 0},\n",
      "       'swversion': '1.0',\n",
      "       'type': 'CLIPGenericStatus',\n",
      "       'uniqueid': 'WA0001'},\n",
      " '4': {'config': {'alert': 'none',\n",
      "                  'battery': 100,\n",
      "                  'ledindication': False,\n",
      "                  'on': True,\n",
      "                  'pending': [],\n",
      "                  'reachable': True,\n",
      "                  'usertest': False},\n",
      "       'manufacturername': 'Philips',\n",
      "       'modelid': 'SML001',\n",
      "       'name': 'Hue temperature sensor 1',\n",
      "       'state': {'lastupdated': '2017-10-13T05:17:44', 'temperature': 1956},\n",
      "       'swupdate': {'lastinstall': None, 'state': 'noupdates'},\n",
      "       'swversion': '6.1.0.18912',\n",
      "       'type': 'ZLLTemperature',\n",
      "       'uniqueid': '00:17:88:01:02:00:af:28-02-0402'},\n",
      " '5': {'config': {'alert': 'none',\n",
      "                  'battery': 100,\n",
      "                  'ledindication': False,\n",
      "                  'on': True,\n",
      "                  'pending': [],\n",
      "                  'reachable': True,\n",
      "                  'sensitivity': 2,\n",
      "                  'sensitivitymax': 2,\n",
      "                  'usertest': False},\n",
      "       'manufacturername': 'Philips',\n",
      "       'modelid': 'SML001',\n",
      "       'name': 'Hall Sensor',\n",
      "       'state': {'lastupdated': '2017-10-13T04:19:06', 'presence': False},\n",
      "       'swupdate': {'lastinstall': None, 'state': 'noupdates'},\n",
      "       'swversion': '6.1.0.18912',\n",
      "       'type': 'ZLLPresence',\n",
      "       'uniqueid': '00:17:88:01:02:00:af:28-02-0406'},\n",
      " '6': {'config': {'alert': 'none',\n",
      "                  'battery': 100,\n",
      "                  'ledindication': False,\n",
      "                  'on': True,\n",
      "                  'pending': [],\n",
      "                  'reachable': True,\n",
      "                  'tholddark': 16000,\n",
      "                  'tholdoffset': 7000,\n",
      "                  'usertest': False},\n",
      "       'manufacturername': 'Philips',\n",
      "       'modelid': 'SML001',\n",
      "       'name': 'Hue ambient light sensor 1',\n",
      "       'state': {'dark': True,\n",
      "                 'daylight': False,\n",
      "                 'lastupdated': '2017-10-13T05:15:08',\n",
      "                 'lightlevel': 0},\n",
      "       'swupdate': {'lastinstall': None, 'state': 'noupdates'},\n",
      "       'swversion': '6.1.0.18912',\n",
      "       'type': 'ZLLLightLevel',\n",
      "       'uniqueid': '00:17:88:01:02:00:af:28-02-0400'},\n",
      " '7': {'config': {'on': True, 'reachable': True},\n",
      "       'manufacturername': 'Philips',\n",
      "       'modelid': 'PHA_STATE',\n",
      "       'name': 'MotionSensor 5.Companion',\n",
      "       'recycle': True,\n",
      "       'state': {'lastupdated': '2017-10-13T04:19:06', 'status': 0},\n",
      "       'swversion': '1.0',\n",
      "       'type': 'CLIPGenericStatus',\n",
      "       'uniqueid': 'MotionSensor 5.Companion'},\n",
      " '8': {'config': {'alert': 'none',\n",
      "                  'battery': 100,\n",
      "                  'ledindication': False,\n",
      "                  'on': True,\n",
      "                  'pending': [],\n",
      "                  'reachable': True,\n",
      "                  'usertest': False},\n",
      "       'manufacturername': 'Philips',\n",
      "       'modelid': 'SML001',\n",
      "       'name': 'Hue temperature sensor 2',\n",
      "       'state': {'lastupdated': '2017-10-13T05:18:35', 'temperature': 2031},\n",
      "       'swupdate': {'lastinstall': None, 'state': 'noupdates'},\n",
      "       'swversion': '6.1.0.18912',\n",
      "       'type': 'ZLLTemperature',\n",
      "       'uniqueid': '00:17:88:01:02:00:b5:ce-02-0402'},\n",
      " '9': {'config': {'alert': 'none',\n",
      "                  'battery': 100,\n",
      "                  'ledindication': False,\n",
      "                  'on': True,\n",
      "                  'pending': [],\n",
      "                  'reachable': True,\n",
      "                  'sensitivity': 2,\n",
      "                  'sensitivitymax': 2,\n",
      "                  'usertest': False},\n",
      "       'manufacturername': 'Philips',\n",
      "       'modelid': 'SML001',\n",
      "       'name': 'Bedroom sensor',\n",
      "       'state': {'lastupdated': '2017-10-13T04:16:20', 'presence': False},\n",
      "       'swupdate': {'lastinstall': None, 'state': 'noupdates'},\n",
      "       'swversion': '6.1.0.18912',\n",
      "       'type': 'ZLLPresence',\n",
      "       'uniqueid': '00:17:88:01:02:00:b5:ce-02-0406'}}\n"
     ]
    }
   ],
   "source": [
    "print_json(response)"
   ]
  },
  {
   "cell_type": "markdown",
   "metadata": {},
   "source": [
    "Lets save the data for convenience."
   ]
  },
  {
   "cell_type": "code",
   "execution_count": 7,
   "metadata": {},
   "outputs": [
    {
     "data": {
      "text/plain": [
       "True"
      ]
     },
     "execution_count": 7,
     "metadata": {},
     "output_type": "execute_result"
    }
   ],
   "source": [
    "hs.save_response(response)"
   ]
  },
  {
   "cell_type": "code",
   "execution_count": 8,
   "metadata": {},
   "outputs": [],
   "source": [
    "data = hs.parse_hue_api_response(response)"
   ]
  },
  {
   "cell_type": "code",
   "execution_count": 9,
   "metadata": {},
   "outputs": [
    {
     "data": {
      "text/plain": [
       "{'Geofence': {'model': 'GEO', 'name': 'Robins iPhone', 'state': 'on'},\n",
       " 'RWL_1e-02': {'battery': 100,\n",
       "  'last_updated': ['2017-10-13', '04:30:34'],\n",
       "  'model': 'RWL',\n",
       "  'name': 'Living room remote',\n",
       "  'state': '2_click'},\n",
       " 'RWL_9c-02': {'battery': 100,\n",
       "  'last_updated': ['none'],\n",
       "  'model': 'RWL',\n",
       "  'name': 'Hall remote',\n",
       "  'state': 'N_hold'},\n",
       " 'RWL_dc-02': {'battery': 100,\n",
       "  'last_updated': ['2017-10-12', '21:12:02'],\n",
       "  'model': 'RWL',\n",
       "  'name': 'Remote bedroom',\n",
       "  'state': '4_click'},\n",
       " 'SML_28-02': {'battery': 100,\n",
       "  'dark': True,\n",
       "  'daylight': False,\n",
       "  'last_updated': ['2017-10-13', '04:19:06'],\n",
       "  'light_level': 0,\n",
       "  'lux': 1.0,\n",
       "  'model': 'SML',\n",
       "  'name': 'Hall motion Sensor',\n",
       "  'state': 'off',\n",
       "  'temperature': 19.56},\n",
       " 'SML_9c-02': {'battery': 100,\n",
       "  'dark': True,\n",
       "  'daylight': False,\n",
       "  'last_updated': ['2017-10-13', '05:15:16'],\n",
       "  'light_level': 0,\n",
       "  'lux': 1.0,\n",
       "  'model': 'SML',\n",
       "  'name': 'Living room motion sensor',\n",
       "  'state': 'off',\n",
       "  'temperature': 22.37},\n",
       " 'SML_ce-02': {'battery': 100,\n",
       "  'dark': True,\n",
       "  'daylight': False,\n",
       "  'last_updated': ['2017-10-13', '04:16:20'],\n",
       "  'light_level': 0,\n",
       "  'lux': 1.0,\n",
       "  'model': 'SML',\n",
       "  'name': 'Bedroom motion sensor',\n",
       "  'state': 'off',\n",
       "  'temperature': 20.31}}"
      ]
     },
     "execution_count": 9,
     "metadata": {},
     "output_type": "execute_result"
    }
   ],
   "source": [
    "data"
   ]
  },
  {
   "cell_type": "markdown",
   "metadata": {},
   "source": [
    "### Dev work"
   ]
  },
  {
   "cell_type": "code",
   "execution_count": 10,
   "metadata": {
    "collapsed": true
   },
   "outputs": [],
   "source": [
    "lightlevel = 32949"
   ]
  },
  {
   "cell_type": "code",
   "execution_count": 11,
   "metadata": {
    "collapsed": true
   },
   "outputs": [],
   "source": [
    "lux = round(float(10**((lightlevel-1)/10000)),2)"
   ]
  },
  {
   "cell_type": "code",
   "execution_count": 12,
   "metadata": {},
   "outputs": [
    {
     "data": {
      "text/plain": [
       "1971.51"
      ]
     },
     "execution_count": 12,
     "metadata": {},
     "output_type": "execute_result"
    }
   ],
   "source": [
    "lux"
   ]
  },
  {
   "cell_type": "code",
   "execution_count": null,
   "metadata": {
    "collapsed": true
   },
   "outputs": [],
   "source": []
  }
 ],
 "metadata": {
  "kernelspec": {
   "display_name": "Python 3",
   "language": "python",
   "name": "python3"
  },
  "language_info": {
   "codemirror_mode": {
    "name": "ipython",
    "version": 3
   },
   "file_extension": ".py",
   "mimetype": "text/x-python",
   "name": "python",
   "nbconvert_exporter": "python",
   "pygments_lexer": "ipython3",
   "version": "3.6.3"
  }
 },
 "nbformat": 4,
 "nbformat_minor": 2
}
